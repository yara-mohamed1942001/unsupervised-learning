{
 "cells": [
  {
   "cell_type": "code",
   "execution_count": 149,
   "id": "a48e1bc2",
   "metadata": {},
   "outputs": [],
   "source": [
    "import numpy as np # linear algebra\n",
    "import pandas as pd # data processing, CSV file I/O (e.g. pd.read_csv)\n",
    "import matplotlib.pyplot as plt\n",
    "import seaborn as sns\n"
   ]
  },
  {
   "cell_type": "code",
   "execution_count": 150,
   "id": "01c30a54",
   "metadata": {},
   "outputs": [],
   "source": [
    "df=pd.read_csv('C://Users//owner//IRIS.csv')\n"
   ]
  },
  {
   "cell_type": "code",
   "execution_count": null,
   "id": "a06026d5",
   "metadata": {},
   "outputs": [],
   "source": []
  },
  {
   "cell_type": "code",
   "execution_count": 151,
   "id": "eaee2fff",
   "metadata": {},
   "outputs": [
    {
     "data": {
      "text/html": [
       "<div>\n",
       "<style scoped>\n",
       "    .dataframe tbody tr th:only-of-type {\n",
       "        vertical-align: middle;\n",
       "    }\n",
       "\n",
       "    .dataframe tbody tr th {\n",
       "        vertical-align: top;\n",
       "    }\n",
       "\n",
       "    .dataframe thead th {\n",
       "        text-align: right;\n",
       "    }\n",
       "</style>\n",
       "<table border=\"1\" class=\"dataframe\">\n",
       "  <thead>\n",
       "    <tr style=\"text-align: right;\">\n",
       "      <th></th>\n",
       "      <th>sepal_length</th>\n",
       "      <th>sepal_width</th>\n",
       "      <th>petal_length</th>\n",
       "      <th>petal_width</th>\n",
       "    </tr>\n",
       "  </thead>\n",
       "  <tbody>\n",
       "    <tr>\n",
       "      <th>0</th>\n",
       "      <td>5.1</td>\n",
       "      <td>3.5</td>\n",
       "      <td>1.4</td>\n",
       "      <td>0.2</td>\n",
       "    </tr>\n",
       "    <tr>\n",
       "      <th>1</th>\n",
       "      <td>4.9</td>\n",
       "      <td>3.0</td>\n",
       "      <td>1.4</td>\n",
       "      <td>0.2</td>\n",
       "    </tr>\n",
       "    <tr>\n",
       "      <th>2</th>\n",
       "      <td>4.7</td>\n",
       "      <td>3.2</td>\n",
       "      <td>1.3</td>\n",
       "      <td>0.2</td>\n",
       "    </tr>\n",
       "    <tr>\n",
       "      <th>3</th>\n",
       "      <td>4.6</td>\n",
       "      <td>3.1</td>\n",
       "      <td>1.5</td>\n",
       "      <td>0.2</td>\n",
       "    </tr>\n",
       "    <tr>\n",
       "      <th>4</th>\n",
       "      <td>5.0</td>\n",
       "      <td>3.6</td>\n",
       "      <td>1.4</td>\n",
       "      <td>0.2</td>\n",
       "    </tr>\n",
       "  </tbody>\n",
       "</table>\n",
       "</div>"
      ],
      "text/plain": [
       "   sepal_length  sepal_width  petal_length  petal_width\n",
       "0           5.1          3.5           1.4          0.2\n",
       "1           4.9          3.0           1.4          0.2\n",
       "2           4.7          3.2           1.3          0.2\n",
       "3           4.6          3.1           1.5          0.2\n",
       "4           5.0          3.6           1.4          0.2"
      ]
     },
     "execution_count": 151,
     "metadata": {},
     "output_type": "execute_result"
    }
   ],
   "source": [
    "df=df.drop(['species'],axis=1)\n",
    "#df=pd.get_dummies(df)\n",
    "df.head()"
   ]
  },
  {
   "cell_type": "code",
   "execution_count": 152,
   "id": "af2fb6ca",
   "metadata": {},
   "outputs": [],
   "source": [
    "import numpy as np\n",
    "\n",
    "# Function to standardize data\n",
    "def standardize_data(data):\n",
    "    mean = np.mean(data, axis=0)\n",
    "    std_dev = np.std(data, axis=0)\n",
    "    standardized = (data - mean) / std_dev\n",
    "    return standardized, mean, std_dev\n",
    "\n",
    "# Function to calculate covariance matrix\n",
    "def calculate_covariance_matrix(data):\n",
    "    num_samples = data.shape[0]\n",
    "    covariance_matrix = np.dot(data.T, data) / (num_samples - 1)\n",
    "    return covariance_matrix\n",
    "\n",
    "# Power Iteration method to find the dominant eigenvalue and eigenvector\n",
    "def power_iteration(matrix, num_iterations):\n",
    "    # Initialize a random vector of the same size as the matrix\n",
    "    vector = np.random.rand(matrix.shape[1])\n",
    "\n",
    "    for _ in range(num_iterations):\n",
    "        # Multiply the matrix with the vector\n",
    "        vector = np.dot(matrix, vector)\n",
    "        \n",
    "        # Normalize the vector\n",
    "        vector /= np.linalg.norm(vector)\n",
    "    \n",
    "    # Calculate the eigenvalue\n",
    "    eigenvalue = np.dot(np.dot(matrix, vector), vector) / np.dot(vector, vector)\n",
    "    \n",
    "    return eigenvalue, vector\n",
    "\n",
    "# Function to perform PCA\n",
    "def apply_pca(data, num_components):\n",
    "    standardized_data, mean, std_dev = standardize_data(data)\n",
    "    covariance_matrix = calculate_covariance_matrix(standardized_data)\n",
    "    \n",
    "    eigenvalues = []\n",
    "    eigenvectors = []\n",
    "\n",
    "    for _ in range(num_components):\n",
    "        eigenvalue, eigenvector = power_iteration(covariance_matrix, num_iterations=1000)\n",
    "        eigenvalues.append(eigenvalue)\n",
    "        eigenvectors.append(eigenvector)\n",
    "        \n",
    "        # Deflate the covariance matrix to find the next largest eigenvalue\n",
    "        covariance_matrix -= eigenvalue * np.outer(eigenvector, eigenvector)\n",
    "    \n",
    "    eigenvalues = np.array(eigenvalues)\n",
    "    eigenvectors = np.array(eigenvectors).T\n",
    "\n",
    "    # Select the top 'num_components' eigenvectors\n",
    "    principal_components = eigenvectors[:, :num_components]\n",
    "\n",
    "    # Project the data onto the new subspace\n",
    "    transformed_data = np.dot(standardized_data, principal_components)\n",
    "\n",
    "    # Reconstruct the data (optional)\n",
    "    reconstructed_data = np.dot(transformed_data, principal_components.T) * std_dev + mean\n",
    "\n",
    "    return transformed_data, reconstructed_data, eigenvalues, eigenvectors\n"
   ]
  },
  {
   "cell_type": "code",
   "execution_count": 173,
   "id": "3c4842eb",
   "metadata": {},
   "outputs": [
    {
     "name": "stdout",
     "output_type": "stream",
     "text": [
      "[[5.1 3.5 1.4 0.2]\n",
      " [4.9 3.  1.4 0.2]\n",
      " [4.7 3.2 1.3 0.2]\n",
      " [4.6 3.1 1.5 0.2]\n",
      " [5.  3.6 1.4 0.2]\n",
      " [5.4 3.9 1.7 0.4]\n",
      " [4.6 3.4 1.4 0.3]\n",
      " [5.  3.4 1.5 0.2]\n",
      " [4.4 2.9 1.4 0.2]\n",
      " [4.9 3.1 1.5 0.1]\n",
      " [5.4 3.7 1.5 0.2]\n",
      " [4.8 3.4 1.6 0.2]\n",
      " [4.8 3.  1.4 0.1]\n",
      " [4.3 3.  1.1 0.1]\n",
      " [5.8 4.  1.2 0.2]\n",
      " [5.7 4.4 1.5 0.4]\n",
      " [5.4 3.9 1.3 0.4]\n",
      " [5.1 3.5 1.4 0.3]\n",
      " [5.7 3.8 1.7 0.3]\n",
      " [5.1 3.8 1.5 0.3]\n",
      " [5.4 3.4 1.7 0.2]\n",
      " [5.1 3.7 1.5 0.4]\n",
      " [4.6 3.6 1.  0.2]\n",
      " [5.1 3.3 1.7 0.5]\n",
      " [4.8 3.4 1.9 0.2]\n",
      " [5.  3.  1.6 0.2]\n",
      " [5.  3.4 1.6 0.4]\n",
      " [5.2 3.5 1.5 0.2]\n",
      " [5.2 3.4 1.4 0.2]\n",
      " [4.7 3.2 1.6 0.2]\n",
      " [4.8 3.1 1.6 0.2]\n",
      " [5.4 3.4 1.5 0.4]\n",
      " [5.2 4.1 1.5 0.1]\n",
      " [5.5 4.2 1.4 0.2]\n",
      " [4.9 3.1 1.5 0.1]\n",
      " [5.  3.2 1.2 0.2]\n",
      " [5.5 3.5 1.3 0.2]\n",
      " [4.9 3.1 1.5 0.1]\n",
      " [4.4 3.  1.3 0.2]\n",
      " [5.1 3.4 1.5 0.2]\n",
      " [5.  3.5 1.3 0.3]\n",
      " [4.5 2.3 1.3 0.3]\n",
      " [4.4 3.2 1.3 0.2]\n",
      " [5.  3.5 1.6 0.6]\n",
      " [5.1 3.8 1.9 0.4]\n",
      " [4.8 3.  1.4 0.3]\n",
      " [5.1 3.8 1.6 0.2]\n",
      " [4.6 3.2 1.4 0.2]\n",
      " [5.3 3.7 1.5 0.2]\n",
      " [5.  3.3 1.4 0.2]\n",
      " [7.  3.2 4.7 1.4]\n",
      " [6.4 3.2 4.5 1.5]\n",
      " [6.9 3.1 4.9 1.5]\n",
      " [5.5 2.3 4.  1.3]\n",
      " [6.5 2.8 4.6 1.5]\n",
      " [5.7 2.8 4.5 1.3]\n",
      " [6.3 3.3 4.7 1.6]\n",
      " [4.9 2.4 3.3 1. ]\n",
      " [6.6 2.9 4.6 1.3]\n",
      " [5.2 2.7 3.9 1.4]\n",
      " [5.  2.  3.5 1. ]\n",
      " [5.9 3.  4.2 1.5]\n",
      " [6.  2.2 4.  1. ]\n",
      " [6.1 2.9 4.7 1.4]\n",
      " [5.6 2.9 3.6 1.3]\n",
      " [6.7 3.1 4.4 1.4]\n",
      " [5.6 3.  4.5 1.5]\n",
      " [5.8 2.7 4.1 1. ]\n",
      " [6.2 2.2 4.5 1.5]\n",
      " [5.6 2.5 3.9 1.1]\n",
      " [5.9 3.2 4.8 1.8]\n",
      " [6.1 2.8 4.  1.3]\n",
      " [6.3 2.5 4.9 1.5]\n",
      " [6.1 2.8 4.7 1.2]\n",
      " [6.4 2.9 4.3 1.3]\n",
      " [6.6 3.  4.4 1.4]\n",
      " [6.8 2.8 4.8 1.4]\n",
      " [6.7 3.  5.  1.7]\n",
      " [6.  2.9 4.5 1.5]\n",
      " [5.7 2.6 3.5 1. ]\n",
      " [5.5 2.4 3.8 1.1]\n",
      " [5.5 2.4 3.7 1. ]\n",
      " [5.8 2.7 3.9 1.2]\n",
      " [6.  2.7 5.1 1.6]\n",
      " [5.4 3.  4.5 1.5]\n",
      " [6.  3.4 4.5 1.6]\n",
      " [6.7 3.1 4.7 1.5]\n",
      " [6.3 2.3 4.4 1.3]\n",
      " [5.6 3.  4.1 1.3]\n",
      " [5.5 2.5 4.  1.3]\n",
      " [5.5 2.6 4.4 1.2]\n",
      " [6.1 3.  4.6 1.4]\n",
      " [5.8 2.6 4.  1.2]\n",
      " [5.  2.3 3.3 1. ]\n",
      " [5.6 2.7 4.2 1.3]\n",
      " [5.7 3.  4.2 1.2]\n",
      " [5.7 2.9 4.2 1.3]\n",
      " [6.2 2.9 4.3 1.3]\n",
      " [5.1 2.5 3.  1.1]\n",
      " [5.7 2.8 4.1 1.3]\n",
      " [6.3 3.3 6.  2.5]\n",
      " [5.8 2.7 5.1 1.9]\n",
      " [7.1 3.  5.9 2.1]\n",
      " [6.3 2.9 5.6 1.8]\n",
      " [6.5 3.  5.8 2.2]\n",
      " [7.6 3.  6.6 2.1]\n",
      " [4.9 2.5 4.5 1.7]\n",
      " [7.3 2.9 6.3 1.8]\n",
      " [6.7 2.5 5.8 1.8]\n",
      " [7.2 3.6 6.1 2.5]\n",
      " [6.5 3.2 5.1 2. ]\n",
      " [6.4 2.7 5.3 1.9]\n",
      " [6.8 3.  5.5 2.1]\n",
      " [5.7 2.5 5.  2. ]\n",
      " [5.8 2.8 5.1 2.4]\n",
      " [6.4 3.2 5.3 2.3]\n",
      " [6.5 3.  5.5 1.8]\n",
      " [7.7 3.8 6.7 2.2]\n",
      " [7.7 2.6 6.9 2.3]\n",
      " [6.  2.2 5.  1.5]\n",
      " [6.9 3.2 5.7 2.3]\n",
      " [5.6 2.8 4.9 2. ]\n",
      " [7.7 2.8 6.7 2. ]\n",
      " [6.3 2.7 4.9 1.8]\n",
      " [6.7 3.3 5.7 2.1]\n",
      " [7.2 3.2 6.  1.8]\n",
      " [6.2 2.8 4.8 1.8]\n",
      " [6.1 3.  4.9 1.8]\n",
      " [6.4 2.8 5.6 2.1]\n",
      " [7.2 3.  5.8 1.6]\n",
      " [7.4 2.8 6.1 1.9]\n",
      " [7.9 3.8 6.4 2. ]\n",
      " [6.4 2.8 5.6 2.2]\n",
      " [6.3 2.8 5.1 1.5]\n",
      " [6.1 2.6 5.6 1.4]\n",
      " [7.7 3.  6.1 2.3]\n",
      " [6.3 3.4 5.6 2.4]\n",
      " [6.4 3.1 5.5 1.8]\n",
      " [6.  3.  4.8 1.8]\n",
      " [6.9 3.1 5.4 2.1]\n",
      " [6.7 3.1 5.6 2.4]\n",
      " [6.9 3.1 5.1 2.3]\n",
      " [5.8 2.7 5.1 1.9]\n",
      " [6.8 3.2 5.9 2.3]\n",
      " [6.7 3.3 5.7 2.5]\n",
      " [6.7 3.  5.2 2.3]\n",
      " [6.3 2.5 5.  1.9]\n",
      " [6.5 3.  5.2 2. ]\n",
      " [6.2 3.4 5.4 2.3]\n",
      " [5.9 3.  5.1 1.8]]\n"
     ]
    }
   ],
   "source": [
    "data_array = df.values\n",
    "print(data_array)\n"
   ]
  },
  {
   "cell_type": "code",
   "execution_count": 187,
   "id": "c0e73cae",
   "metadata": {},
   "outputs": [
    {
     "name": "stdout",
     "output_type": "stream",
     "text": [
      "(150, 4)\n",
      "\n",
      "Transformed data after PCA - First few rows:\n",
      "          0         1         2         3\n",
      "0  5.022448  3.513992  1.462720  0.249598\n",
      "1  4.742457  3.029306  1.601710  0.268453\n",
      "2  4.724617  3.196108  1.326447  0.164102\n",
      "3  4.673166  3.086103  1.382083  0.178748\n",
      "4  5.020837  3.595753  1.342004  0.204562\n",
      "\n",
      "Transformed data after PCA - Last few rows:\n",
      "            0         1         2         3\n",
      "145  6.767373  2.994239  5.684826  2.022433\n",
      "146  6.237041  2.514527  5.318099  1.824102\n",
      "147  6.580970  2.987627  5.323099  1.866225\n",
      "148  6.749017  3.303876  5.203251  1.841375\n",
      "149  6.250053  2.935911  4.738389  1.610259\n"
     ]
    }
   ],
   "source": [
    "# Applying PCA\n",
    "num_components = 2 # Number of principal components\n",
    "transformed, reconstructed, eigenvalues, eigenvectors = apply_pca(data_array, num_components)\n",
    "\n",
    "print(reconstructed.shape)\n",
    "# View the first few rows of the transformed data after PCA\n",
    "print(\"\\nTransformed data after PCA - First few rows:\")\n",
    "print(pd.DataFrame(reconstructed).head())\n",
    "\n",
    "# View the last few rows of the transformed data after PCA\n",
    "print(\"\\nTransformed data after PCA - Last few rows:\")\n",
    "print(pd.DataFrame(reconstructed).tail())"
   ]
  },
  {
   "cell_type": "code",
   "execution_count": 188,
   "id": "7b741608",
   "metadata": {},
   "outputs": [],
   "source": [
    "from sklearn.cluster import DBSCAN\n",
    "db = DBSCAN(eps=0.5, min_samples=4, metric='euclidean')\n"
   ]
  },
  {
   "cell_type": "code",
   "execution_count": 189,
   "id": "775ea756",
   "metadata": {},
   "outputs": [],
   "source": [
    "model=db.fit(reconstructed)\n",
    "label=model.labels_\n"
   ]
  },
  {
   "cell_type": "code",
   "execution_count": 197,
   "id": "f8ecb657",
   "metadata": {},
   "outputs": [
    {
     "name": "stdout",
     "output_type": "stream",
     "text": [
      "No of clusters: 4\n"
     ]
    }
   ],
   "source": [
    "from sklearn import metrics\n",
    "\n",
    "#identifying the points which makes up our core points\n",
    "sample_cores=np.zeros_like(label,dtype=bool)\n",
    "\n",
    "sample_cores[db.core_sample_indices_]=True\n",
    "\n",
    "#Calculating the number of clusters\n",
    "\n",
    "n_clusters=len(set(label))- (1 if -1 in label else 0)\n",
    "print('No of clusters:',n_clusters)"
   ]
  },
  {
   "cell_type": "code",
   "execution_count": 198,
   "id": "8921da4b",
   "metadata": {},
   "outputs": [
    {
     "name": "stderr",
     "output_type": "stream",
     "text": [
      "C:\\ProgramData\\anaconda3\\lib\\site-packages\\sklearn\\cluster\\_agglomerative.py:983: FutureWarning: Attribute `affinity` was deprecated in version 1.2 and will be removed in 1.4. Use `metric` instead\n",
      "  warnings.warn(\n"
     ]
    },
    {
     "data": {
      "image/png": "[encoded data removed]",
      "text/plain": [
       "<Figure size 640x480 with 1 Axes>"
      ]
     },
     "metadata": {},
     "output_type": "display_data"
    }
   ],
   "source": [
    "from sklearn.cluster import AgglomerativeClustering\n",
    "import matplotlib.pyplot as plt\n",
    "\n",
    "hc = AgglomerativeClustering(n_clusters, affinity='euclidean', linkage='ward')\n",
    "y_hc = hc.fit_predict(reconstructed)\n",
    "colors = ['pink', 'yellow', 'cyan', 'magenta', 'orange', 'blue', 'red', 'black', 'violet',\n",
    "          'green', 'brown', 'gray', 'olive', 'purple', 'teal', 'gold', 'navy', 'salmon',\n",
    "          'lime', 'skyblue', 'indigo', 'coral'] \n",
    "\n",
    "for i in range(n_clusters):\n",
    "    plt.scatter(reconstructed[y_hc == i, 0], reconstructed[y_hc == i, 1], s=50, c=colors[i], label=f'Cluster {i}')\n",
    "\n",
    "plt.title('Hierarchical Clustering(after PCA)', fontsize=20)\n",
    "plt.xlabel('Feature 1')\n",
    "plt.ylabel('Feature 2')\n",
    "plt.legend()\n",
    "plt.grid()\n",
    "plt.show()\n"
   ]
  },
  {
   "cell_type": "code",
   "execution_count": 199,
   "id": "70dad62a",
   "metadata": {},
   "outputs": [
    {
     "name": "stdout",
     "output_type": "stream",
     "text": [
      "No of clusters: 3\n"
     ]
    }
   ],
   "source": [
    "model2=db.fit(data_array)\n",
    "label2=model2.labels_\n",
    "from sklearn import metrics\n",
    "\n",
    "#identifying the points which makes up our core points\n",
    "sample_cores=np.zeros_like(label2,dtype=bool)\n",
    "\n",
    "sample_cores[db.core_sample_indices_]=True\n",
    "\n",
    "#Calculating the number of clusters\n",
    "\n",
    "n_clusters2=len(set(label2))- (1 if -1 in label2 else 0)\n",
    "print('No of clusters:',n_clusters2)"
   ]
  },
  {
   "cell_type": "code",
   "execution_count": 200,
   "id": "23cf9ffe",
   "metadata": {},
   "outputs": [
    {
     "name": "stderr",
     "output_type": "stream",
     "text": [
      "C:\\ProgramData\\anaconda3\\lib\\site-packages\\sklearn\\cluster\\_agglomerative.py:983: FutureWarning: Attribute `affinity` was deprecated in version 1.2 and will be removed in 1.4. Use `metric` instead\n",
      "  warnings.warn(\n"
     ]
    },
    {
     "data": {
      "image/png": "[encoded data removed]",
      "text/plain": [
       "<Figure size 640x480 with 1 Axes>"
      ]
     },
     "metadata": {},
     "output_type": "display_data"
    }
   ],
   "source": [
    "from sklearn.cluster import AgglomerativeClustering\n",
    "import matplotlib.pyplot as plt\n",
    "\n",
    "hc = AgglomerativeClustering(n_clusters2, affinity='euclidean', linkage='ward')\n",
    "y_hc = hc.fit_predict(data_array)\n",
    "\n",
    "colors = ['pink', 'yellow', 'cyan', 'magenta', 'orange', 'blue', 'red', 'black', 'violet',\n",
    "          'green', 'brown', 'gray', 'olive', 'purple', 'teal', 'gold', 'navy', 'salmon',\n",
    "          'lime', 'skyblue', 'indigo', 'coral'] \n",
    "\n",
    "for i in range(n_clusters2):\n",
    "    plt.scatter(data_array[y_hc == i, 0], data_array[y_hc == i, 1], s=50, c=colors[i], label=f'Cluster {i}')\n",
    "\n",
    "plt.title('Hierarchical Clustering', fontsize=20)\n",
    "plt.xlabel('Feature 1')\n",
    "plt.ylabel('Feature 2')\n",
    "plt.legend()\n",
    "plt.grid()\n",
    "plt.show()"
   ]
  },
  {
   "cell_type": "code",
   "execution_count": null,
   "id": "3bb6ee51",
   "metadata": {},
   "outputs": [],
   "source": []
  }
 ],
 "metadata": {
  "kernelspec": {
   "display_name": "Python 3 (ipykernel)",
   "language": "python",
   "name": "python3"
  },
  "language_info": {
   "codemirror_mode": {
    "name": "ipython",
    "version": 3
   },
   "file_extension": ".py",
   "mimetype": "text/x-python",
   "name": "python",
   "nbconvert_exporter": "python",
   "pygments_lexer": "ipython3",
   "version": "3.10.9"
  }
 },
 "nbformat": 4,
 "nbformat_minor": 5
}
